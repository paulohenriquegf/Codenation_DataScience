{
 "nbformat": 4,
 "nbformat_minor": 0,
 "metadata": {
  "kernelspec": {
   "display_name": "Python 3",
   "language": "python",
   "name": "python3"
  },
  "language_info": {
   "codemirror_mode": {
    "name": "ipython",
    "version": 3
   },
   "file_extension": ".py",
   "mimetype": "text/x-python",
   "name": "python",
   "nbconvert_exporter": "python",
   "pygments_lexer": "ipython3",
   "version": "3.7.3"
  },
  "colab": {
   "name": "main.ipynb",
   "provenance": [],
   "collapsed_sections": []
  }
 },
 "cells": [
  {
   "cell_type": "markdown",
   "metadata": {
    "id": "aAVMpaxny7MB",
    "colab_type": "text"
   },
   "source": [
    "# Desafio 4\n",
    "\n",
    "Neste desafio, vamos praticar um pouco sobre testes de hipóteses. Utilizaremos o _data set_ [2016 Olympics in Rio de Janeiro](https://www.kaggle.com/rio2016/olympic-games/), que contém dados sobre os atletas das Olimpíadas de 2016 no Rio de Janeiro.\n",
    "\n",
    "Esse _data set_ conta com informações gerais sobre 11538 atletas como nome, nacionalidade, altura, peso e esporte praticado. Estaremos especialmente interessados nas variáveis numéricas altura (`height`) e peso (`weight`). As análises feitas aqui são parte de uma Análise Exploratória de Dados (EDA).\n",
    "\n",
    "> Obs.: Por favor, não modifique o nome das funções de resposta."
   ]
  },
  {
   "cell_type": "markdown",
   "metadata": {
    "id": "4JOWiZGTy7MC",
    "colab_type": "text"
   },
   "source": [
    "## _Setup_ geral"
   ]
  },
  {
   "cell_type": "code",
   "metadata": {
    "id": "uzTwiEMty7MD",
    "colab_type": "code",
    "colab": {
     "base_uri": "https://localhost:8080/",
     "height": 72
    },
    "outputId": "b53dde7c-2724-4eeb-a368-2525316c280d"
   },
   "source": [
    "import pandas as pd\n",
    "import matplotlib.pyplot as plt\n",
    "import numpy as np\n",
    "import scipy.stats as sct\n",
    "import seaborn as sns\n",
    "\n",
    "\n",
    "\n",
    "athletes = pd.read_csv(\"athletes.csv\")"
   ],
   "execution_count": 2,
   "outputs": [
    {
     "output_type": "stream",
     "text": [
      "/usr/local/lib/python3.6/dist-packages/statsmodels/tools/_testing.py:19: FutureWarning: pandas.util.testing is deprecated. Use the functions in the public API at pandas.testing instead.\n",
      "  import pandas.util.testing as tm\n"
     ],
     "name": "stderr"
    }
   ]
  },
  {
   "cell_type": "code",
   "metadata": {
    "id": "ULO1GNSwy7MK",
    "colab_type": "code",
    "colab": {}
   },
   "source": [
    "def get_sample(df, col_name, n=100, seed=42):\n",
    "    \"\"\"Get a sample from a column of a dataframe.\n",
    "    \n",
    "    It drops any numpy.nan entries before sampling. The sampling\n",
    "    is performed without replacement.\n",
    "    \n",
    "    Example of numpydoc for those who haven't seen yet.\n",
    "    \n",
    "    Parameters\n",
    "    ----------\n",
    "    df : pandas.DataFrame\n",
    "        Source dataframe.\n",
    "    col_name : str\n",
    "        Name of the column to be sampled.\n",
    "    n : int\n",
    "        Sample size. Default is 100.\n",
    "    seed : int\n",
    "        Random seed. Default is 42.\n",
    "    \n",
    "    Returns\n",
    "    -------\n",
    "    pandas.Series\n",
    "        Sample of size n from dataframe's column.\n",
    "    \"\"\"\n",
    "    np.random.seed(seed)\n",
    "    \n",
    "    random_idx = np.random.choice(df[col_name].dropna().index, size=n, replace=False)\n",
    "    \n",
    "    return df.loc[random_idx, col_name]"
   ],
   "execution_count": 6,
   "outputs": []
  },
  {
   "cell_type": "markdown",
   "metadata": {
    "id": "bv-Is4hfy7MM",
    "colab_type": "text"
   },
   "source": [
    "## Inicia sua análise a partir daqui"
   ]
  },
  {
   "cell_type": "code",
   "metadata": {
    "id": "qJdFXk6hy7MM",
    "colab_type": "code",
    "colab": {
     "base_uri": "https://localhost:8080/",
     "height": 317
    },
    "outputId": "4c26a0c0-4dbb-49d9-83ce-1bb41c9059fe"
   },
   "source": [
    "# Sua análise começa aqui.\n",
    "athletes.head()"
   ],
   "execution_count": 7,
   "outputs": [
    {
     "output_type": "execute_result",
     "data": {
      "text/html": [
       "<div>\n",
       "<style scoped>\n",
       "    .dataframe tbody tr th:only-of-type {\n",
       "        vertical-align: middle;\n",
       "    }\n",
       "\n",
       "    .dataframe tbody tr th {\n",
       "        vertical-align: top;\n",
       "    }\n",
       "\n",
       "    .dataframe thead th {\n",
       "        text-align: right;\n",
       "    }\n",
       "</style>\n",
       "<table border=\"1\" class=\"dataframe\">\n",
       "  <thead>\n",
       "    <tr style=\"text-align: right;\">\n",
       "      <th></th>\n",
       "      <th>id</th>\n",
       "      <th>name</th>\n",
       "      <th>nationality</th>\n",
       "      <th>sex</th>\n",
       "      <th>dob</th>\n",
       "      <th>height</th>\n",
       "      <th>weight</th>\n",
       "      <th>sport</th>\n",
       "      <th>gold</th>\n",
       "      <th>silver</th>\n",
       "      <th>bronze</th>\n",
       "    </tr>\n",
       "  </thead>\n",
       "  <tbody>\n",
       "    <tr>\n",
       "      <th>0</th>\n",
       "      <td>736041664</td>\n",
       "      <td>A Jesus Garcia</td>\n",
       "      <td>ESP</td>\n",
       "      <td>male</td>\n",
       "      <td>10/17/69</td>\n",
       "      <td>1.72</td>\n",
       "      <td>64.0</td>\n",
       "      <td>athletics</td>\n",
       "      <td>0</td>\n",
       "      <td>0</td>\n",
       "      <td>0</td>\n",
       "    </tr>\n",
       "    <tr>\n",
       "      <th>1</th>\n",
       "      <td>532037425</td>\n",
       "      <td>A Lam Shin</td>\n",
       "      <td>KOR</td>\n",
       "      <td>female</td>\n",
       "      <td>9/23/86</td>\n",
       "      <td>1.68</td>\n",
       "      <td>56.0</td>\n",
       "      <td>fencing</td>\n",
       "      <td>0</td>\n",
       "      <td>0</td>\n",
       "      <td>0</td>\n",
       "    </tr>\n",
       "    <tr>\n",
       "      <th>2</th>\n",
       "      <td>435962603</td>\n",
       "      <td>Aaron Brown</td>\n",
       "      <td>CAN</td>\n",
       "      <td>male</td>\n",
       "      <td>5/27/92</td>\n",
       "      <td>1.98</td>\n",
       "      <td>79.0</td>\n",
       "      <td>athletics</td>\n",
       "      <td>0</td>\n",
       "      <td>0</td>\n",
       "      <td>1</td>\n",
       "    </tr>\n",
       "    <tr>\n",
       "      <th>3</th>\n",
       "      <td>521041435</td>\n",
       "      <td>Aaron Cook</td>\n",
       "      <td>MDA</td>\n",
       "      <td>male</td>\n",
       "      <td>1/2/91</td>\n",
       "      <td>1.83</td>\n",
       "      <td>80.0</td>\n",
       "      <td>taekwondo</td>\n",
       "      <td>0</td>\n",
       "      <td>0</td>\n",
       "      <td>0</td>\n",
       "    </tr>\n",
       "    <tr>\n",
       "      <th>4</th>\n",
       "      <td>33922579</td>\n",
       "      <td>Aaron Gate</td>\n",
       "      <td>NZL</td>\n",
       "      <td>male</td>\n",
       "      <td>11/26/90</td>\n",
       "      <td>1.81</td>\n",
       "      <td>71.0</td>\n",
       "      <td>cycling</td>\n",
       "      <td>0</td>\n",
       "      <td>0</td>\n",
       "      <td>0</td>\n",
       "    </tr>\n",
       "  </tbody>\n",
       "</table>\n",
       "</div>"
      ],
      "text/plain": [
       "          id            name nationality  ... gold silver  bronze\n",
       "0  736041664  A Jesus Garcia         ESP  ...    0      0       0\n",
       "1  532037425      A Lam Shin         KOR  ...    0      0       0\n",
       "2  435962603     Aaron Brown         CAN  ...    0      0       1\n",
       "3  521041435      Aaron Cook         MDA  ...    0      0       0\n",
       "4   33922579      Aaron Gate         NZL  ...    0      0       0\n",
       "\n",
       "[5 rows x 11 columns]"
      ]
     },
     "metadata": {
      "tags": []
     },
     "execution_count": 7
    }
   ]
  },
  {
   "cell_type": "code",
   "metadata": {
    "id": "8PSjAp3m0JfC",
    "colab_type": "code",
    "colab": {
     "base_uri": "https://localhost:8080/",
     "height": 34
    },
    "outputId": "40e5d78b-a468-4802-d19b-e291ad2d18d3"
   },
   "source": [
    "athletes.shape"
   ],
   "execution_count": 8,
   "outputs": [
    {
     "output_type": "execute_result",
     "data": {
      "text/plain": [
       "(11538, 11)"
      ]
     },
     "metadata": {
      "tags": []
     },
     "execution_count": 8
    }
   ]
  },
  {
   "cell_type": "markdown",
   "metadata": {
    "id": "9Es446iQy7MP",
    "colab_type": "text"
   },
   "source": [
    "## Questão 1\n",
    "\n",
    "Considerando uma amostra de tamanho 3000 da coluna `height` obtida com a função `get_sample()`, execute o teste de normalidade de Shapiro-Wilk com a função `scipy.stats.shapiro()`. Podemos afirmar que as alturas são normalmente distribuídas com base nesse teste (ao nível de significância de 5%)? Responda com um boolean (`True` ou `False`)."
   ]
  },
  {
   "cell_type": "code",
   "metadata": {
    "id": "0nEbwiyJy7MP",
    "colab_type": "code",
    "colab": {
     "base_uri": "https://localhost:8080/",
     "height": 52
    },
    "outputId": "ee9242aa-0796-4e87-be3c-d537aa7fc4bd"
   },
   "source": [
    "amostra = get_sample(athletes, 'height', n=3000 )\n",
    "\n",
    "\n",
    "def q1():\n",
    "    # normalidade:\n",
    "    stat,p = sct.shapiro(amostra)\n",
    "    print(f'statistics:{stat}, p-value:{p}')\n",
    "\n",
    "    # Interpretação:\n",
    "    alpha = 0.05\n",
    "    if p > alpha:\n",
    "        return True\n",
    "    else:\n",
    "        return False\n",
    "q1()"
   ],
   "execution_count": 24,
   "outputs": [
    {
     "output_type": "stream",
     "text": [
      "statistics:0.9961519837379456, p-value:5.681722541339695e-07\n"
     ],
     "name": "stdout"
    },
    {
     "output_type": "execute_result",
     "data": {
      "text/plain": [
       "False"
      ]
     },
     "metadata": {
      "tags": []
     },
     "execution_count": 24
    }
   ]
  },
  {
   "cell_type": "markdown",
   "metadata": {
    "id": "FAVFkV8Dy7MS",
    "colab_type": "text"
   },
   "source": [
    "__Para refletir__:\n",
    "\n",
    "* Plote o histograma dessa variável (com, por exemplo, `bins=25`). A forma do gráfico e o resultado do teste são condizentes? Por que?\n",
    "* Plote o qq-plot para essa variável e a analise.\n",
    "* Existe algum nível de significância razoável que nos dê outro resultado no teste? (Não faça isso na prática. Isso é chamado _p-value hacking_, e não é legal)."
   ]
  },
  {
   "cell_type": "markdown",
   "metadata": {
    "id": "CrZhs6Gyy7MU",
    "colab_type": "text"
   },
   "source": [
    "## Questão 2\n",
    "\n",
    "Repita o mesmo procedimento acima, mas agora utilizando o teste de normalidade de Jarque-Bera através da função `scipy.stats.jarque_bera()`. Agora podemos afirmar que as alturas são normalmente distribuídas (ao nível de significância de 5%)? Responda com um boolean (`True` ou `False`)."
   ]
  },
  {
   "cell_type": "code",
   "metadata": {
    "id": "dM7lAL4ny7MU",
    "colab_type": "code",
    "colab": {
     "base_uri": "https://localhost:8080/",
     "height": 52
    },
    "outputId": "495b48c6-813d-4cfe-8a07-a535403e884e"
   },
   "source": [
    "amostra = get_sample(athletes, 'height', n=3000 )\n",
    "def q2():\n",
    "    # normalidade:\n",
    "    stat,p = sct.jarque_bera(amostra)\n",
    "    print(f'statistics:{stat}, p-value:{p}')\n",
    "\n",
    "    # Interpretação:\n",
    "    alpha = 0.05\n",
    "    if p > alpha:\n",
    "        return True\n",
    "    else:\n",
    "        return False\n",
    "q2()"
   ],
   "execution_count": 23,
   "outputs": [
    {
     "output_type": "stream",
     "text": [
      "statistics:13.03363513594265, p-value:0.001478366424594868\n"
     ],
     "name": "stdout"
    },
    {
     "output_type": "execute_result",
     "data": {
      "text/plain": [
       "False"
      ]
     },
     "metadata": {
      "tags": []
     },
     "execution_count": 23
    }
   ]
  },
  {
   "cell_type": "markdown",
   "metadata": {
    "id": "KfP3RIXMy7MW",
    "colab_type": "text"
   },
   "source": [
    "__Para refletir__:\n",
    "\n",
    "* Esse resultado faz sentido?"
   ]
  },
  {
   "cell_type": "markdown",
   "metadata": {
    "id": "YLV2dqrNy7MW",
    "colab_type": "text"
   },
   "source": [
    "## Questão 3\n",
    "\n",
    "Considerando agora uma amostra de tamanho 3000 da coluna `weight` obtida com a função `get_sample()`. Faça o teste de normalidade de D'Agostino-Pearson utilizando a função `scipy.stats.normaltest()`. Podemos afirmar que os pesos vêm de uma distribuição normal ao nível de significância de 5%? Responda com um boolean (`True` ou `False`)."
   ]
  },
  {
   "cell_type": "code",
   "metadata": {
    "id": "qfNRs4a0y7MX",
    "colab_type": "code",
    "colab": {
     "base_uri": "https://localhost:8080/",
     "height": 52
    },
    "outputId": "c244dc4e-4d34-4307-fbec-05a1c7c9f58d"
   },
   "source": [
    "nova_amostra = get_sample(athletes, 'weight', n=3000)\n",
    "def q3():\n",
    "    # normalidade:\n",
    "    stat,p = sct.normaltest(nova_amostra)\n",
    "    print(f'statistics:{stat}, p-value:{p}')\n",
    "\n",
    "    # Interpretação:\n",
    "    alpha = 0.05\n",
    "    if p > alpha:\n",
    "        return True\n",
    "    else:\n",
    "        return False\n",
    "q3()"
   ],
   "execution_count": 25,
   "outputs": [
    {
     "output_type": "stream",
     "text": [
      "statistics:510.24655809881176, p-value:1.5898922918029537e-111\n"
     ],
     "name": "stdout"
    },
    {
     "output_type": "execute_result",
     "data": {
      "text/plain": [
       "False"
      ]
     },
     "metadata": {
      "tags": []
     },
     "execution_count": 25
    }
   ]
  },
  {
   "cell_type": "markdown",
   "metadata": {
    "id": "nA6srrL8y7MY",
    "colab_type": "text"
   },
   "source": [
    "__Para refletir__:\n",
    "\n",
    "* Plote o histograma dessa variável (com, por exemplo, `bins=25`). A forma do gráfico e o resultado do teste são condizentes? Por que?\n",
    "* Um _box plot_ também poderia ajudar a entender a resposta."
   ]
  },
  {
   "cell_type": "markdown",
   "metadata": {
    "id": "dtXl_hPRy7MZ",
    "colab_type": "text"
   },
   "source": [
    "## Questão 4\n",
    "\n",
    "Realize uma transformação logarítmica em na amostra de `weight` da questão 3 e repita o mesmo procedimento. Podemos afirmar a normalidade da variável transformada ao nível de significância de 5%? Responda com um boolean (`True` ou `False`)."
   ]
  },
  {
   "cell_type": "code",
   "metadata": {
    "id": "eTBQCNoSy7MZ",
    "colab_type": "code",
    "colab": {
     "base_uri": "https://localhost:8080/",
     "height": 52
    },
    "outputId": "ccb154c7-af2c-4452-d900-1daf0d3e888a"
   },
   "source": [
    "amostra_log = np.log(nova_amostra)\n",
    "\n",
    "def q4():\n",
    "    # normalidade:\n",
    "    stat,p = sct.normaltest(amostra_log)\n",
    "    print(f'statistics:{stat}, p-value:{p}')\n",
    "\n",
    "    # Interpretação:\n",
    "    alpha = 0.05\n",
    "    if p > alpha:\n",
    "        return True\n",
    "    else:\n",
    "        return False\n",
    "q4()"
   ],
   "execution_count": 26,
   "outputs": [
    {
     "output_type": "stream",
     "text": [
      "statistics:45.91534331977353, p-value:1.0705572101256944e-10\n"
     ],
     "name": "stdout"
    },
    {
     "output_type": "execute_result",
     "data": {
      "text/plain": [
       "False"
      ]
     },
     "metadata": {
      "tags": []
     },
     "execution_count": 26
    }
   ]
  },
  {
   "cell_type": "markdown",
   "metadata": {
    "id": "TUhCEWxiy7Mc",
    "colab_type": "text"
   },
   "source": [
    "__Para refletir__:\n",
    "\n",
    "* Plote o histograma dessa variável (com, por exemplo, `bins=25`). A forma do gráfico e o resultado do teste são condizentes? Por que?\n",
    "* Você esperava um resultado diferente agora?"
   ]
  },
  {
   "cell_type": "markdown",
   "metadata": {
    "id": "2uKjQ2pdy7Mc",
    "colab_type": "text"
   },
   "source": [
    "> __Para as questão 5 6 e 7 a seguir considere todos testes efetuados ao nível de significância de 5%__."
   ]
  },
  {
   "cell_type": "markdown",
   "metadata": {
    "id": "HbmS_sHzy7Md",
    "colab_type": "text"
   },
   "source": [
    "## Questão 5\n",
    "\n",
    "Obtenha todos atletas brasileiros, norte-americanos e canadenses em `DataFrame`s chamados `bra`, `usa` e `can`,respectivamente. Realize um teste de hipóteses para comparação das médias das alturas (`height`) para amostras independentes e variâncias diferentes com a função `scipy.stats.ttest_ind()` entre `bra` e `usa`. Podemos afirmar que as médias são estatisticamente iguais? Responda com um boolean (`True` ou `False`)."
   ]
  },
  {
   "cell_type": "code",
   "metadata": {
    "id": "eeTxy2wny7Md",
    "colab_type": "code",
    "colab": {
     "base_uri": "https://localhost:8080/",
     "height": 70
    },
    "outputId": "2a2ae41f-b60b-4f40-f688-bec876099be4"
   },
   "source": [
    "bra = athletes[athletes.nationality == 'BRA']\n",
    "usa = athletes[athletes.nationality == 'USA']\n",
    "can = athletes[athletes.nationality == 'CAN']\n",
    "\n",
    "def q5():\n",
    "    print(f'BRA: {bra.height.mean()}\\nUSA: {usa.height.mean()}')\n",
    "    \n",
    "    bra_usa = sct.ttest_ind(bra.height, usa.height, equal_var=False, nan_policy='omit')\n",
    "    alpha = 0.05\n",
    "    if bra_usa[1] > alpha:\n",
    "      return True\n",
    "    else:\n",
    "      return False\n",
    "\n",
    "q5()"
   ],
   "execution_count": 39,
   "outputs": [
    {
     "output_type": "stream",
     "text": [
      "BRA: 1.764033613445379\n",
      "USA: 1.7877678571428557\n"
     ],
     "name": "stdout"
    },
    {
     "output_type": "execute_result",
     "data": {
      "text/plain": [
       "False"
      ]
     },
     "metadata": {
      "tags": []
     },
     "execution_count": 39
    }
   ]
  },
  {
   "cell_type": "markdown",
   "metadata": {
    "id": "MngfcHRGy7Mf",
    "colab_type": "text"
   },
   "source": [
    "## Questão 6\n",
    "\n",
    "Repita o procedimento da questão 5, mas agora entre as alturas de `bra` e `can`. Podemos afimar agora que as médias são estatisticamente iguais? Reponda com um boolean (`True` ou `False`)."
   ]
  },
  {
   "cell_type": "code",
   "metadata": {
    "id": "njeL4faNy7Mg",
    "colab_type": "code",
    "colab": {
     "base_uri": "https://localhost:8080/",
     "height": 70
    },
    "outputId": "3d75f836-d22b-4461-8ec1-437aa2fdd7be"
   },
   "source": [
    "def q6():\n",
    "    print(f'BRA: {bra.height.mean()}\\nCAN: {can.height.mean()}')\n",
    "    \n",
    "    bra_can = sct.ttest_ind(bra.height, can.height, equal_var=False, nan_policy='omit')\n",
    "    alpha = 0.05\n",
    "    if bra_can[1] > alpha:\n",
    "      return True\n",
    "    else:\n",
    "      return False\n",
    "q6()"
   ],
   "execution_count": 43,
   "outputs": [
    {
     "output_type": "stream",
     "text": [
      "BRA: 1.764033613445379\n",
      "CAN: 1.7585937500000004\n"
     ],
     "name": "stdout"
    },
    {
     "output_type": "execute_result",
     "data": {
      "text/plain": [
       "True"
      ]
     },
     "metadata": {
      "tags": []
     },
     "execution_count": 43
    }
   ]
  },
  {
   "cell_type": "markdown",
   "metadata": {
    "id": "XfiLhkJIy7Mj",
    "colab_type": "text"
   },
   "source": [
    "## Questão 7\n",
    "\n",
    "Repita o procedimento da questão 6, mas agora entre as alturas de `usa` e `can`. Qual o valor do p-valor retornado? Responda como um único escalar arredondado para oito casas decimais."
   ]
  },
  {
   "cell_type": "code",
   "metadata": {
    "id": "rYrUKwQVy7Mj",
    "colab_type": "code",
    "colab": {
     "base_uri": "https://localhost:8080/",
     "height": 70
    },
    "outputId": "61d178a7-a927-4a80-c021-b1f270f00c91"
   },
   "source": [
    "def q7():\n",
    "    print(f'USA: {usa.height.mean()}\\nCAN: {can.height.mean()}')\n",
    "    \n",
    "    usa_can = sct.ttest_ind(usa.height, can.height, equal_var=False, nan_policy='omit')\n",
    "\n",
    "    return float(round(usa_can[1],8))\n",
    "q7()"
   ],
   "execution_count": 46,
   "outputs": [
    {
     "output_type": "stream",
     "text": [
      "USA: 1.7877678571428557\n",
      "CAN: 1.7585937500000004\n"
     ],
     "name": "stdout"
    },
    {
     "output_type": "execute_result",
     "data": {
      "text/plain": [
       "0.00046601"
      ]
     },
     "metadata": {
      "tags": []
     },
     "execution_count": 46
    }
   ]
  },
  {
   "cell_type": "markdown",
   "metadata": {
    "id": "N4x0RMKwy7Ml",
    "colab_type": "text"
   },
   "source": [
    "__Para refletir__:\n",
    "\n",
    "* O resultado faz sentido?\n",
    "* Você consegue interpretar esse p-valor?\n",
    "* Você consegue chegar a esse valor de p-valor a partir da variável de estatística?"
   ]
  }
 ]
}